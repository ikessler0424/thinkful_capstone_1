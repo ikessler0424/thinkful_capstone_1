{
 "cells": [
  {
   "cell_type": "markdown",
   "metadata": {},
   "source": [
    "# General\n",
    "\n",
    "We will be exploring the Border Crossing/Entry dataset from the United States Department of Transportation. This data is maintained by the Bureau of Transporation Statistics that includes data representing inbound crossings at the U.S.-Canada and the U.S.-Mexico border at the port level. \n",
    "\n",
    "The data reflects the number of vehicles, containers, passengers or pedestrians entering the United States on a monthly basis. Along with port level information this dataset includes intriguing information around what are referred to as 'measures' that can be classified as 'commercial' and 'personal' border crossings/entry that we will explore further.\n",
    "\n",
    "The dataset itself consists of 1 table. We will not be utilizing all fields that are provided in the dataset but could be used for future research purposes.\n",
    "\n",
    "The Border Crossings/Entry file contains a Port Name, State, Port Code,\tBorder,\tMeasure, Value, and a Date as a record.\n",
    "\n",
    "There are only 2 challenges that were encountered (so far) for this dataset. The first challenge is values in the Date field are formatted at datetime values but the dataset is only recording aggregated values at a Year-Month level of granularity. The second is regarding the date we are (currently) running this analysis and how that may skew our dataset. \n",
    "\n",
    "\n",
    "**BTS = \"Bureau of Transportation Statistics\"**"
   ]
  },
  {
   "cell_type": "markdown",
   "metadata": {},
   "source": [
    "## Quality\n",
    "As this dataset is being maintained by the federal government we are not as concerned as we would be with other public datasets from across the web. \n",
    "### [US Border-Crossing/Entry Data](https://www.bts.gov/content/border-crossingentry-data)"
   ]
  },
  {
   "cell_type": "markdown",
   "metadata": {},
   "source": [
    "## Asking and Answering 3 Analytical Questions"
   ]
  },
  {
   "cell_type": "markdown",
   "metadata": {},
   "source": [
    "__#1 How have border crossings trended over the past 2 decades? \n",
    "\n",
    "_Note: Keep in mind that this dataset only includes crossings INTO the US not outbound from the US._"
   ]
  },
  {
   "cell_type": "code",
   "execution_count": 1,
   "metadata": {},
   "outputs": [],
   "source": [
    "import numpy as np\n",
    "import pandas as pd\n",
    "import scipy\n",
    "import statistics as stats\n",
    "import matplotlib.pyplot as plt\n",
    "%matplotlib inline\n",
    "import datetime"
   ]
  },
  {
   "cell_type": "code",
   "execution_count": 2,
   "metadata": {
    "scrolled": true
   },
   "outputs": [],
   "source": [
    "# Opening the file and creating a dataframe of it\n",
    "\n",
    "df = pd.read_csv('Border_Crossing_Entry_Data.csv')\n",
    "\n",
    "# Converting the original Date column that was type 'string' to type 'Datetime'\n",
    "df['Date'] = pd.to_datetime(df['Date'])\n",
    "\n",
    "# Create new columns for Year values from 'Dates' column for use in visualizations\n",
    "df['Year'] = df['Date'].dt.year\n",
    "\n",
    "annual_df = df[['Year', 'Value']]\n",
    "annual_df = df.groupby(['Year'])['Value'].sum().reset_index()"
   ]
  },
  {
   "cell_type": "code",
   "execution_count": 3,
   "metadata": {},
   "outputs": [
    {
     "data": {
      "text/html": [
       "<div>\n",
       "<style scoped>\n",
       "    .dataframe tbody tr th:only-of-type {\n",
       "        vertical-align: middle;\n",
       "    }\n",
       "\n",
       "    .dataframe tbody tr th {\n",
       "        vertical-align: top;\n",
       "    }\n",
       "\n",
       "    .dataframe thead th {\n",
       "        text-align: right;\n",
       "    }\n",
       "</style>\n",
       "<table border=\"1\" class=\"dataframe\">\n",
       "  <thead>\n",
       "    <tr style=\"text-align: right;\">\n",
       "      <th></th>\n",
       "      <th>Port Name</th>\n",
       "      <th>State</th>\n",
       "      <th>Port Code</th>\n",
       "      <th>Border</th>\n",
       "      <th>Date</th>\n",
       "      <th>Measure</th>\n",
       "      <th>Value</th>\n",
       "      <th>Year</th>\n",
       "    </tr>\n",
       "  </thead>\n",
       "  <tbody>\n",
       "    <tr>\n",
       "      <th>0</th>\n",
       "      <td>Alcan</td>\n",
       "      <td>Alaska</td>\n",
       "      <td>3104</td>\n",
       "      <td>US-Canada Border</td>\n",
       "      <td>2019-06-01</td>\n",
       "      <td>Truck Containers Full</td>\n",
       "      <td>142</td>\n",
       "      <td>2019</td>\n",
       "    </tr>\n",
       "    <tr>\n",
       "      <th>1</th>\n",
       "      <td>Alcan</td>\n",
       "      <td>Alaska</td>\n",
       "      <td>3104</td>\n",
       "      <td>US-Canada Border</td>\n",
       "      <td>2019-06-01</td>\n",
       "      <td>Trucks</td>\n",
       "      <td>675</td>\n",
       "      <td>2019</td>\n",
       "    </tr>\n",
       "    <tr>\n",
       "      <th>2</th>\n",
       "      <td>Alcan</td>\n",
       "      <td>Alaska</td>\n",
       "      <td>3104</td>\n",
       "      <td>US-Canada Border</td>\n",
       "      <td>2019-06-01</td>\n",
       "      <td>Truck Containers Empty</td>\n",
       "      <td>542</td>\n",
       "      <td>2019</td>\n",
       "    </tr>\n",
       "    <tr>\n",
       "      <th>3</th>\n",
       "      <td>Alcan</td>\n",
       "      <td>Alaska</td>\n",
       "      <td>3104</td>\n",
       "      <td>US-Canada Border</td>\n",
       "      <td>2019-06-01</td>\n",
       "      <td>Personal Vehicles</td>\n",
       "      <td>10850</td>\n",
       "      <td>2019</td>\n",
       "    </tr>\n",
       "    <tr>\n",
       "      <th>4</th>\n",
       "      <td>Alcan</td>\n",
       "      <td>Alaska</td>\n",
       "      <td>3104</td>\n",
       "      <td>US-Canada Border</td>\n",
       "      <td>2019-06-01</td>\n",
       "      <td>Personal Vehicle Passengers</td>\n",
       "      <td>28016</td>\n",
       "      <td>2019</td>\n",
       "    </tr>\n",
       "    <tr>\n",
       "      <th>5</th>\n",
       "      <td>Alcan</td>\n",
       "      <td>Alaska</td>\n",
       "      <td>3104</td>\n",
       "      <td>US-Canada Border</td>\n",
       "      <td>2019-06-01</td>\n",
       "      <td>Pedestrians</td>\n",
       "      <td>32</td>\n",
       "      <td>2019</td>\n",
       "    </tr>\n",
       "    <tr>\n",
       "      <th>6</th>\n",
       "      <td>Alcan</td>\n",
       "      <td>Alaska</td>\n",
       "      <td>3104</td>\n",
       "      <td>US-Canada Border</td>\n",
       "      <td>2019-06-01</td>\n",
       "      <td>Buses</td>\n",
       "      <td>47</td>\n",
       "      <td>2019</td>\n",
       "    </tr>\n",
       "    <tr>\n",
       "      <th>7</th>\n",
       "      <td>Alcan</td>\n",
       "      <td>Alaska</td>\n",
       "      <td>3104</td>\n",
       "      <td>US-Canada Border</td>\n",
       "      <td>2019-06-01</td>\n",
       "      <td>Bus Passengers</td>\n",
       "      <td>1047</td>\n",
       "      <td>2019</td>\n",
       "    </tr>\n",
       "    <tr>\n",
       "      <th>8</th>\n",
       "      <td>Alcan</td>\n",
       "      <td>Alaska</td>\n",
       "      <td>3104</td>\n",
       "      <td>US-Canada Border</td>\n",
       "      <td>2019-05-01</td>\n",
       "      <td>Trucks</td>\n",
       "      <td>774</td>\n",
       "      <td>2019</td>\n",
       "    </tr>\n",
       "    <tr>\n",
       "      <th>9</th>\n",
       "      <td>Alcan</td>\n",
       "      <td>Alaska</td>\n",
       "      <td>3104</td>\n",
       "      <td>US-Canada Border</td>\n",
       "      <td>2019-05-01</td>\n",
       "      <td>Truck Containers Full</td>\n",
       "      <td>152</td>\n",
       "      <td>2019</td>\n",
       "    </tr>\n",
       "    <tr>\n",
       "      <th>10</th>\n",
       "      <td>Alcan</td>\n",
       "      <td>Alaska</td>\n",
       "      <td>3104</td>\n",
       "      <td>US-Canada Border</td>\n",
       "      <td>2019-05-01</td>\n",
       "      <td>Truck Containers Empty</td>\n",
       "      <td>621</td>\n",
       "      <td>2019</td>\n",
       "    </tr>\n",
       "    <tr>\n",
       "      <th>11</th>\n",
       "      <td>Alcan</td>\n",
       "      <td>Alaska</td>\n",
       "      <td>3104</td>\n",
       "      <td>US-Canada Border</td>\n",
       "      <td>2019-05-01</td>\n",
       "      <td>Bus Passengers</td>\n",
       "      <td>19</td>\n",
       "      <td>2019</td>\n",
       "    </tr>\n",
       "    <tr>\n",
       "      <th>12</th>\n",
       "      <td>Alcan</td>\n",
       "      <td>Alaska</td>\n",
       "      <td>3104</td>\n",
       "      <td>US-Canada Border</td>\n",
       "      <td>2019-05-01</td>\n",
       "      <td>Buses</td>\n",
       "      <td>4</td>\n",
       "      <td>2019</td>\n",
       "    </tr>\n",
       "    <tr>\n",
       "      <th>13</th>\n",
       "      <td>Alcan</td>\n",
       "      <td>Alaska</td>\n",
       "      <td>3104</td>\n",
       "      <td>US-Canada Border</td>\n",
       "      <td>2019-05-01</td>\n",
       "      <td>Pedestrians</td>\n",
       "      <td>12</td>\n",
       "      <td>2019</td>\n",
       "    </tr>\n",
       "    <tr>\n",
       "      <th>14</th>\n",
       "      <td>Alcan</td>\n",
       "      <td>Alaska</td>\n",
       "      <td>3104</td>\n",
       "      <td>US-Canada Border</td>\n",
       "      <td>2019-05-01</td>\n",
       "      <td>Personal Vehicle Passengers</td>\n",
       "      <td>13899</td>\n",
       "      <td>2019</td>\n",
       "    </tr>\n",
       "    <tr>\n",
       "      <th>15</th>\n",
       "      <td>Alcan</td>\n",
       "      <td>Alaska</td>\n",
       "      <td>3104</td>\n",
       "      <td>US-Canada Border</td>\n",
       "      <td>2019-05-01</td>\n",
       "      <td>Personal Vehicles</td>\n",
       "      <td>6658</td>\n",
       "      <td>2019</td>\n",
       "    </tr>\n",
       "    <tr>\n",
       "      <th>16</th>\n",
       "      <td>Alcan</td>\n",
       "      <td>Alaska</td>\n",
       "      <td>3104</td>\n",
       "      <td>US-Canada Border</td>\n",
       "      <td>2019-04-01</td>\n",
       "      <td>Bus Passengers</td>\n",
       "      <td>10</td>\n",
       "      <td>2019</td>\n",
       "    </tr>\n",
       "    <tr>\n",
       "      <th>17</th>\n",
       "      <td>Alcan</td>\n",
       "      <td>Alaska</td>\n",
       "      <td>3104</td>\n",
       "      <td>US-Canada Border</td>\n",
       "      <td>2019-04-01</td>\n",
       "      <td>Buses</td>\n",
       "      <td>1</td>\n",
       "      <td>2019</td>\n",
       "    </tr>\n",
       "    <tr>\n",
       "      <th>18</th>\n",
       "      <td>Alcan</td>\n",
       "      <td>Alaska</td>\n",
       "      <td>3104</td>\n",
       "      <td>US-Canada Border</td>\n",
       "      <td>2019-04-01</td>\n",
       "      <td>Personal Vehicle Passengers</td>\n",
       "      <td>5885</td>\n",
       "      <td>2019</td>\n",
       "    </tr>\n",
       "    <tr>\n",
       "      <th>19</th>\n",
       "      <td>Alcan</td>\n",
       "      <td>Alaska</td>\n",
       "      <td>3104</td>\n",
       "      <td>US-Canada Border</td>\n",
       "      <td>2019-04-01</td>\n",
       "      <td>Personal Vehicles</td>\n",
       "      <td>3054</td>\n",
       "      <td>2019</td>\n",
       "    </tr>\n",
       "  </tbody>\n",
       "</table>\n",
       "</div>"
      ],
      "text/plain": [
       "   Port Name   State  Port Code            Border       Date  \\\n",
       "0      Alcan  Alaska       3104  US-Canada Border 2019-06-01   \n",
       "1      Alcan  Alaska       3104  US-Canada Border 2019-06-01   \n",
       "2      Alcan  Alaska       3104  US-Canada Border 2019-06-01   \n",
       "3      Alcan  Alaska       3104  US-Canada Border 2019-06-01   \n",
       "4      Alcan  Alaska       3104  US-Canada Border 2019-06-01   \n",
       "5      Alcan  Alaska       3104  US-Canada Border 2019-06-01   \n",
       "6      Alcan  Alaska       3104  US-Canada Border 2019-06-01   \n",
       "7      Alcan  Alaska       3104  US-Canada Border 2019-06-01   \n",
       "8      Alcan  Alaska       3104  US-Canada Border 2019-05-01   \n",
       "9      Alcan  Alaska       3104  US-Canada Border 2019-05-01   \n",
       "10     Alcan  Alaska       3104  US-Canada Border 2019-05-01   \n",
       "11     Alcan  Alaska       3104  US-Canada Border 2019-05-01   \n",
       "12     Alcan  Alaska       3104  US-Canada Border 2019-05-01   \n",
       "13     Alcan  Alaska       3104  US-Canada Border 2019-05-01   \n",
       "14     Alcan  Alaska       3104  US-Canada Border 2019-05-01   \n",
       "15     Alcan  Alaska       3104  US-Canada Border 2019-05-01   \n",
       "16     Alcan  Alaska       3104  US-Canada Border 2019-04-01   \n",
       "17     Alcan  Alaska       3104  US-Canada Border 2019-04-01   \n",
       "18     Alcan  Alaska       3104  US-Canada Border 2019-04-01   \n",
       "19     Alcan  Alaska       3104  US-Canada Border 2019-04-01   \n",
       "\n",
       "                        Measure  Value  Year  \n",
       "0         Truck Containers Full    142  2019  \n",
       "1                        Trucks    675  2019  \n",
       "2        Truck Containers Empty    542  2019  \n",
       "3             Personal Vehicles  10850  2019  \n",
       "4   Personal Vehicle Passengers  28016  2019  \n",
       "5                   Pedestrians     32  2019  \n",
       "6                         Buses     47  2019  \n",
       "7                Bus Passengers   1047  2019  \n",
       "8                        Trucks    774  2019  \n",
       "9         Truck Containers Full    152  2019  \n",
       "10       Truck Containers Empty    621  2019  \n",
       "11               Bus Passengers     19  2019  \n",
       "12                        Buses      4  2019  \n",
       "13                  Pedestrians     12  2019  \n",
       "14  Personal Vehicle Passengers  13899  2019  \n",
       "15            Personal Vehicles   6658  2019  \n",
       "16               Bus Passengers     10  2019  \n",
       "17                        Buses      1  2019  \n",
       "18  Personal Vehicle Passengers   5885  2019  \n",
       "19            Personal Vehicles   3054  2019  "
      ]
     },
     "execution_count": 3,
     "metadata": {},
     "output_type": "execute_result"
    }
   ],
   "source": [
    "df.head(20)"
   ]
  },
  {
   "cell_type": "markdown",
   "metadata": {},
   "source": [
    "We will be analyzing the past 2 decades of border crossings on an annual basis to get a high level view of any trends we can dive into."
   ]
  },
  {
   "cell_type": "code",
   "execution_count": 4,
   "metadata": {},
   "outputs": [
    {
     "name": "stdout",
     "output_type": "stream",
     "text": [
      "411094543\n"
     ]
    },
    {
     "data": {
      "image/png": "[encoded data removed]",
      "text/plain": [
       "<Figure size 720x360 with 1 Axes>"
      ]
     },
     "metadata": {
      "needs_background": "light"
     },
     "output_type": "display_data"
    },
    {
     "name": "stdout",
     "output_type": "stream",
     "text": [
      "411788531\n"
     ]
    },
    {
     "data": {
      "image/png": "[encoded data removed]",
      "text/plain": [
       "<Figure size 720x360 with 1 Axes>"
      ]
     },
     "metadata": {
      "needs_background": "light"
     },
     "output_type": "display_data"
    }
   ],
   "source": [
    "# Calculate Statistics\n",
    "# Mean\n",
    "annual_mean = int(np.mean(annual_df['Value']))\n",
    "\n",
    "print(annual_mean)\n",
    "\n",
    "annual_df.plot('Year','Value', kind='bar', figsize=(10,5))\n",
    "hline = plt.axhline(y=annual_mean, linewidth=3, color='r')\n",
    "plt.title('Annual Border Crossings into the US')\n",
    "plt.ylabel('Border Crossings')\n",
    "plt.ylim(100000000, 600000000)\n",
    "plt.Normalize()\n",
    "plt.show()\n",
    "\n",
    "# remove year '2019'\n",
    "annual_df = annual_df[0:-1]\n",
    "\n",
    "# Mean w/o '2019'\n",
    "annual_mean_wo2019 = int(stats.harmonic_mean(annual_df['Value']))\n",
    "\n",
    "print(annual_mean_wo2019)\n",
    "\n",
    "annual_df.plot('Year','Value', kind='bar', figsize=(10,5))\n",
    "hline = plt.axhline(y=annual_mean_wo2019, linewidth=3, color='r')\n",
    "plt.title('Annual Border Crossings into the US \\n (w/o 2019)')\n",
    "plt.ylabel('Border Crossings')\n",
    "plt.show()"
   ]
  },
  {
   "cell_type": "markdown",
   "metadata": {},
   "source": [
    "Just from a visual analysis of annual border crossings we can see that 2019 is an anomaly. That is due to this analysis is being done in September of 2019 and the dataset gets updated at the end of every quarter. This means we only have data up to June of 2019 (only half of the year). For this reason we chose to remove 2019 so as to not skew any of the analysis.\n",
    "\n",
    "You can also see the change to the average amount of border crossings increases once we remove the incomplete 2019 year. \n",
    "\n",
    "_**After the year 2000 there seems to be decline in border crossings into the US. Let's explore this further.**_"
   ]
  },
  {
   "cell_type": "code",
   "execution_count": 5,
   "metadata": {},
   "outputs": [
    {
     "data": {
      "image/png": "[encoded data removed]",
      "text/plain": [
       "<Figure size 432x288 with 1 Axes>"
      ]
     },
     "metadata": {
      "needs_background": "light"
     },
     "output_type": "display_data"
    }
   ],
   "source": [
    "# Visualizing annual border crossings compared to the annual mean\n",
    "plt.plot(annual_df['Year'], annual_df['Value'], 'bo--')\n",
    "plt.title('Annual Border Crossings into the US')\n",
    "plt.xlabel('Year')\n",
    "plt.ylabel('Total Border Crossings (in 100M)')\n",
    "plt.axvline(x=2001, color='r')\n",
    "plt.annotate('2001', xy=(2001, 400000000), xytext=(2003, 375000000),\n",
    "             arrowprops=dict(facecolor='black', shrink=0.05))\n",
    "plt.axvspan(2000, 2001, facecolor='#2ca02c', alpha=0.5)\n",
    "plt.show()"
   ]
  },
  {
   "cell_type": "markdown",
   "metadata": {},
   "source": [
    "It looks like there was an event that triggered a stark decline starting in 2001. Then continued until another event on or around 2012 ocurred that has increased our land border entries into the US since.\n",
    "\n",
    "_**Note: After doing a bit of research into world and US specific events in 2001 the Septemper 11 terrorist attack on the World Trade Center was something that could have impacted entries into the US.**_"
   ]
  },
  {
   "cell_type": "markdown",
   "metadata": {},
   "source": [
    "__#2 Has the decline since 2001 impacted commercial border crossings?"
   ]
  },
  {
   "cell_type": "markdown",
   "metadata": {},
   "source": [
    "The `Measure` variable can be thought of as _Modes of Transportation_ for which we can group our commercial transportation types into.\n",
    "\n",
    "The BTS classifies a _commercial_ border crossing as either:\n",
    "- Truck container crossings (loaded and unloaded)\n",
    "- Rail container crossings (loaded and unloaded)"
   ]
  },
  {
   "cell_type": "code",
   "execution_count": 6,
   "metadata": {},
   "outputs": [
    {
     "data": {
      "image/png": "[encoded data removed]",
      "text/plain": [
       "<Figure size 432x288 with 1 Axes>"
      ]
     },
     "metadata": {
      "needs_background": "light"
     },
     "output_type": "display_data"
    }
   ],
   "source": [
    "# remove year '2019'\n",
    "df = df[df['Year']!= 2019]\n",
    "\n",
    "border_df = df[['Year', 'Measure', 'Value']]\n",
    "border_df = border_df.groupby(['Year', 'Measure'])['Value'].sum().reset_index()\n",
    "\n",
    "border_df['Commercial'] = 0\n",
    "border_df.loc[border_df['Measure'].str.contains('Containers', na=False), 'Commercial'] = 1\n",
    "\n",
    "commercial_df = border_df[border_df['Commercial']==1]\n",
    "commercial_df = commercial_df.groupby(['Year','Commercial'])['Value'].sum().reset_index()\n",
    "\n",
    "cdf_x = commercial_df['Year']\n",
    "cdf_y = commercial_df['Value']\n",
    "\n",
    "plt.plot(cdf_x, cdf_y, 'r--')\n",
    "plt.title('Commercial Border Crossings into the US')\n",
    "plt.xlabel('Year')\n",
    "plt.ylabel('Total Border Crossings')\n",
    "plt.axvline(x=2001, color='b')\n",
    "plt.annotate('2001', xy=(2001, 10000000), xytext=(2003, 10000000), arrowprops=dict(facecolor='black', shrink=0.05))\n",
    "plt.show()"
   ]
  },
  {
   "cell_type": "markdown",
   "metadata": {},
   "source": [
    "This looks as though the commercial category of land border crossings were not impacted by the 2001 event we saw have an impact of our overall border crossings into the US by land. So... what did? Well let's take a look at the _personal_ category of border crossings. "
   ]
  },
  {
   "cell_type": "markdown",
   "metadata": {},
   "source": [
    "__#3 Has personal travel to the US by Land seen a decline since 2001?"
   ]
  },
  {
   "cell_type": "markdown",
   "metadata": {},
   "source": [
    "The `Measure` variable can be thought of as _Modes of Transportation_ for which we can group our personal transportation types into.\n",
    "\n",
    "The BTS classifies a _personal_ border crossing as any of:\n",
    "- Truck crossings\n",
    "- Train crossings\n",
    "- Passengers crossing in trains\n",
    "- Bus crossings\n",
    "- Passengers crossing in buses\n",
    "- Privately owned vehicle crossings\n",
    "- Passengers crossings in privately owned vehicles\n",
    "- Pedestrian crossings"
   ]
  },
  {
   "cell_type": "code",
   "execution_count": 7,
   "metadata": {},
   "outputs": [
    {
     "data": {
      "image/png": "[encoded data removed]",
      "text/plain": [
       "<Figure size 432x288 with 1 Axes>"
      ]
     },
     "metadata": {
      "needs_background": "light"
     },
     "output_type": "display_data"
    }
   ],
   "source": [
    "personal_df = border_df[border_df['Commercial']==0]\n",
    "personal_df = personal_df.groupby(['Year','Commercial'])['Value'].sum().reset_index()\n",
    "\n",
    "pdf_x = personal_df['Year']\n",
    "pdf_y = personal_df['Value']\n",
    "plt.plot(pdf_x, pdf_y, 'b--')\n",
    "plt.title('Personal Border Crossings into the US')\n",
    "plt.xlabel('Year')\n",
    "plt.ylabel('Total Border Crossings')\n",
    "plt.axvline(x=2001, color='r')\n",
    "plt.annotate('2001', xy=(2001, 400000000), xytext=(2003, 400000000), arrowprops=dict(facecolor='black', shrink=0.05))\n",
    "plt.show()"
   ]
  },
  {
   "cell_type": "markdown",
   "metadata": {},
   "source": [
    "So from our analysis we can see that Tourism (defined as 'Personal' modes of Transportation) contributes the majority to the decline in travel to the US from Mexico and Canada. The 'Commercial' industry comprised of Trucks and Railroads entering the US has been gaining momentum which contradicts our general declining trend of Personal travel."
   ]
  },
  {
   "cell_type": "markdown",
   "metadata": {},
   "source": [
    "# Future Research and Analysis Improvements"
   ]
  },
  {
   "cell_type": "markdown",
   "metadata": {},
   "source": [
    "    ○ By including more terrorist attack examples to increase the probability that these fluctuations in the dataset were not due to other variables.\n",
    "    \n",
    "    ○ Include Air and Maritime data in the trade analysis would solidify this analysis as this is only one type of entry into the US and the other ones could provide the ability to perform an international analysis (possibly by country into the US)\n",
    "    \n",
    "    ○ Adding more years (even back to the 80's) could provide a higher confidence level in calculating our central tendency measures. \n",
    "    \n",
    "    ○ Create an API call to the BTS.gov website could pull data up to todays date for the consumer of the analysis. "
   ]
  }
 ],
 "metadata": {
  "kernelspec": {
   "display_name": "Python 3",
   "language": "python",
   "name": "python3"
  },
  "language_info": {
   "codemirror_mode": {
    "name": "ipython",
    "version": 3
   },
   "file_extension": ".py",
   "mimetype": "text/x-python",
   "name": "python",
   "nbconvert_exporter": "python",
   "pygments_lexer": "ipython3",
   "version": "3.7.3"
  }
 },
 "nbformat": 4,
 "nbformat_minor": 2
}
